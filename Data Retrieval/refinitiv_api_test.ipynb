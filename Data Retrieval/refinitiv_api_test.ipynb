{
 "cells": [
  {
   "cell_type": "code",
   "execution_count": 6,
   "metadata": {},
   "outputs": [],
   "source": [
    "# Importing necessary libraries\n",
    "import os\n",
    "import pandas as pd\n",
    "from IPython.display import HTML\n",
    "import refinitiv.data as rd\n",
    "\n",
    "from refinitiv.data.content import news"
   ]
  },
  {
   "cell_type": "code",
   "execution_count": 2,
   "metadata": {},
   "outputs": [],
   "source": [
    "# Configuration File to communicate with Refinitiv\n",
    "os.environ[\"RD_LIB_CONFIG_PATH\"] = \"../Configuration\""
   ]
  },
  {
   "cell_type": "code",
   "execution_count": 11,
   "metadata": {},
   "outputs": [
    {
     "data": {
      "text/plain": [
       "<refinitiv.data.session.Definition object at 0x111bf6590 {name='workspace'}>"
      ]
     },
     "execution_count": 11,
     "metadata": {},
     "output_type": "execute_result"
    }
   ],
   "source": [
    "# Connecting to the Refinitiv API\n",
    "rd.open_session()"
   ]
  },
  {
   "cell_type": "code",
   "execution_count": 12,
   "metadata": {},
   "outputs": [
    {
     "data": {
      "text/html": [
       "<div>\n",
       "<style scoped>\n",
       "    .dataframe tbody tr th:only-of-type {\n",
       "        vertical-align: middle;\n",
       "    }\n",
       "\n",
       "    .dataframe tbody tr th {\n",
       "        vertical-align: top;\n",
       "    }\n",
       "\n",
       "    .dataframe thead th {\n",
       "        text-align: right;\n",
       "    }\n",
       "</style>\n",
       "<table border=\"1\" class=\"dataframe\">\n",
       "  <thead>\n",
       "    <tr style=\"text-align: right;\">\n",
       "      <th></th>\n",
       "      <th>headline</th>\n",
       "      <th>storyId</th>\n",
       "      <th>sourceCode</th>\n",
       "    </tr>\n",
       "    <tr>\n",
       "      <th>versionCreated</th>\n",
       "      <th></th>\n",
       "      <th></th>\n",
       "      <th></th>\n",
       "    </tr>\n",
       "  </thead>\n",
       "  <tbody>\n",
       "    <tr>\n",
       "      <th>2023-11-09 00:00:00.000</th>\n",
       "      <td>Anyline Announced Partnership With Treads To S...</td>\n",
       "      <td>urn:newsml:newsroom:20231111:nNRAqnvrym:0</td>\n",
       "      <td>NS:PLUCOM</td>\n",
       "    </tr>\n",
       "    <tr>\n",
       "      <th>2023-11-08 14:33:47.881</th>\n",
       "      <td>Anyline Announces Partnership With Treads To S...</td>\n",
       "      <td>urn:link:webnews:20231108:nNRAqmcso1:0</td>\n",
       "      <td>NS:YAHNEX</td>\n",
       "    </tr>\n",
       "    <tr>\n",
       "      <th>2023-11-08 14:09:53.603</th>\n",
       "      <td>Anyline Announces Partnership With Treads To S...</td>\n",
       "      <td>urn:link:webnews:20231108:nNRAqmcfus:0</td>\n",
       "      <td>NS:FINDEH</td>\n",
       "    </tr>\n",
       "    <tr>\n",
       "      <th>2023-11-08 14:00:00.840</th>\n",
       "      <td>Anyline Announces Partnership With Treads To S...</td>\n",
       "      <td>urn:newsml:reuters.com:20231108:nBwTcYKTa:1</td>\n",
       "      <td>NS:BSW</td>\n",
       "    </tr>\n",
       "    <tr>\n",
       "      <th>2023-11-01 09:09:32.658</th>\n",
       "      <td>Anyline Unveils AI-Powered Analytics System fo...</td>\n",
       "      <td>urn:newsml:newsroom:20231101:nNRAqi9b0k:0</td>\n",
       "      <td>NS:PLUCOM</td>\n",
       "    </tr>\n",
       "    <tr>\n",
       "      <th>2023-11-01 01:23:45.203</th>\n",
       "      <td>Anyline Launches Tire &amp; Vehicle Analytics Plat...</td>\n",
       "      <td>urn:link:webnews:20231101:nNRAqi2fmv:0</td>\n",
       "      <td>NS:TIRCOM</td>\n",
       "    </tr>\n",
       "    <tr>\n",
       "      <th>2023-10-31 18:47:14.596</th>\n",
       "      <td>Anyline Debuts AI-Enabled Analytics Platform f...</td>\n",
       "      <td>urn:link:webnews:20231031:nNRAqhygup:0</td>\n",
       "      <td>NS:YAHNEX</td>\n",
       "    </tr>\n",
       "    <tr>\n",
       "      <th>2023-10-31 18:17:44.140</th>\n",
       "      <td>Anyline Debuts AI-Enabled Analytics Platform f...</td>\n",
       "      <td>urn:link:webnews:20231031:nNRAqhy6cr:0</td>\n",
       "      <td>NS:FINDEH</td>\n",
       "    </tr>\n",
       "    <tr>\n",
       "      <th>2023-10-31 13:00:00.495</th>\n",
       "      <td>Anyline Debuts AI-Enabled Analytics Platform f...</td>\n",
       "      <td>urn:newsml:reuters.com:20231031:nBwvNwPYa:1</td>\n",
       "      <td>NS:BSW</td>\n",
       "    </tr>\n",
       "    <tr>\n",
       "      <th>2023-10-10 19:23:03.302</th>\n",
       "      <td>Anyline Launches New Tire Sidewall Scanner --</td>\n",
       "      <td>urn:link:webnews:20231010:nNRAq7t2re:0</td>\n",
       "      <td>NS:TIRCOM</td>\n",
       "    </tr>\n",
       "  </tbody>\n",
       "</table>\n",
       "</div>"
      ],
      "text/plain": [
       "                                                                  headline  \\\n",
       "versionCreated                                                               \n",
       "2023-11-09 00:00:00.000  Anyline Announced Partnership With Treads To S...   \n",
       "2023-11-08 14:33:47.881  Anyline Announces Partnership With Treads To S...   \n",
       "2023-11-08 14:09:53.603  Anyline Announces Partnership With Treads To S...   \n",
       "2023-11-08 14:00:00.840  Anyline Announces Partnership With Treads To S...   \n",
       "2023-11-01 09:09:32.658  Anyline Unveils AI-Powered Analytics System fo...   \n",
       "2023-11-01 01:23:45.203  Anyline Launches Tire & Vehicle Analytics Plat...   \n",
       "2023-10-31 18:47:14.596  Anyline Debuts AI-Enabled Analytics Platform f...   \n",
       "2023-10-31 18:17:44.140  Anyline Debuts AI-Enabled Analytics Platform f...   \n",
       "2023-10-31 13:00:00.495  Anyline Debuts AI-Enabled Analytics Platform f...   \n",
       "2023-10-10 19:23:03.302      Anyline Launches New Tire Sidewall Scanner --   \n",
       "\n",
       "                                                             storyId  \\\n",
       "versionCreated                                                         \n",
       "2023-11-09 00:00:00.000    urn:newsml:newsroom:20231111:nNRAqnvrym:0   \n",
       "2023-11-08 14:33:47.881       urn:link:webnews:20231108:nNRAqmcso1:0   \n",
       "2023-11-08 14:09:53.603       urn:link:webnews:20231108:nNRAqmcfus:0   \n",
       "2023-11-08 14:00:00.840  urn:newsml:reuters.com:20231108:nBwTcYKTa:1   \n",
       "2023-11-01 09:09:32.658    urn:newsml:newsroom:20231101:nNRAqi9b0k:0   \n",
       "2023-11-01 01:23:45.203       urn:link:webnews:20231101:nNRAqi2fmv:0   \n",
       "2023-10-31 18:47:14.596       urn:link:webnews:20231031:nNRAqhygup:0   \n",
       "2023-10-31 18:17:44.140       urn:link:webnews:20231031:nNRAqhy6cr:0   \n",
       "2023-10-31 13:00:00.495  urn:newsml:reuters.com:20231031:nBwvNwPYa:1   \n",
       "2023-10-10 19:23:03.302       urn:link:webnews:20231010:nNRAq7t2re:0   \n",
       "\n",
       "                        sourceCode  \n",
       "versionCreated                      \n",
       "2023-11-09 00:00:00.000  NS:PLUCOM  \n",
       "2023-11-08 14:33:47.881  NS:YAHNEX  \n",
       "2023-11-08 14:09:53.603  NS:FINDEH  \n",
       "2023-11-08 14:00:00.840     NS:BSW  \n",
       "2023-11-01 09:09:32.658  NS:PLUCOM  \n",
       "2023-11-01 01:23:45.203  NS:TIRCOM  \n",
       "2023-10-31 18:47:14.596  NS:YAHNEX  \n",
       "2023-10-31 18:17:44.140  NS:FINDEH  \n",
       "2023-10-31 13:00:00.495     NS:BSW  \n",
       "2023-10-10 19:23:03.302  NS:TIRCOM  "
      ]
     },
     "execution_count": 12,
     "metadata": {},
     "output_type": "execute_result"
    }
   ],
   "source": [
    "response = news.headlines.Definition(\"Anyline\").get_data()\n",
    "response.data.df"
   ]
  },
  {
   "cell_type": "code",
   "execution_count": 13,
   "metadata": {},
   "outputs": [
    {
     "name": "stdout",
     "output_type": "stream",
     "text": [
      "Anyline Announced Partnership With Treads To Simplify Car Maintenance With Advanced AI Technology \n",
      "\n"
     ]
    },
    {
     "data": {
      "text/html": [
       "<div lang=\"en\">\n",
       "<div class=\"tr-npp-lead\">\n",
       "<p>VIENNA: Anyline, a global leader in mobile data capture and data insights, today announced its partnership with Treads, an AI-powered car management subscription, to offer its car owners more mobile data capture and analytic features within the Treads mobile app.</p>\n",
       "<p>Treads launched in May 2021 to simplify car ownership and has since expanded into 21 major United States markets with over 4,000 customers offering subscriptions for tires, oil changes, alignments and wiper blades as well as a full auto insurance marketplace. As the company expands its capabilities and size, Treads sought a solution where car owners could easily and independently verify their actual tire tread depth or the life left in their tires, leading to its partnership with Anyline and deploying the Anyline Tread Depth Scanner. This partnership expands its capabilities, further protects car owners from surprise expenses and lowers the cost of entry for owning and driving a vehicle.</p>\n",
       "</div>\n",
       "<div class=\"tr-npp-body\">\n",
       "<p>Anyline Tread Depth Scanner is cutting-edge technology that no one else has delivered to the market in a reliable way, said Zach Olson, CEO of Treads. We’ve seen rapid growth as a company and attribute it all to our AI technology-first approach. Our partnership with Anyline is a natural progression and strengthens our technology toolkit to make the car ownership journey frictionless.</p>\n",
       "<p>Using state-of-the-art AI and computer vision, Anyline Tread Depth Scanner solution makes it easy to accurately measure tire tread depth – using any mobile device. The Anyline Tread Depth Scanner can be integrated into workforce or consumer-facing apps via an API. With Anyline’s Tread Depth Scanner, Treads can ensure its customers are always driving on a safe set of tires.</p>\n",
       "<p>I am incredibly proud and excited to welcome Treads into our growing family of valued partners, said Lukas Kinigadner, CEO and co-founder at Anyline. Treads’ subscription model aims to smooth out the cost of maintaining a vehicle, making them a perfect match for us as a partner. Together, we're driving innovation, enhancing safety and revolutionizing the automotive industry.</p>\n",
       "</div>\n",
       "</div>"
      ],
      "text/plain": [
       "<IPython.core.display.HTML object>"
      ]
     },
     "execution_count": 13,
     "metadata": {},
     "output_type": "execute_result"
    }
   ],
   "source": [
    "response = news.story.Definition(\"urn:newsml:newsroom:20231111:nNRAqnvrym:0\").get_data()\n",
    "print(response.data.story.title, '\\n')\n",
    "HTML(response.data.story.content.html)"
   ]
  },
  {
   "cell_type": "code",
   "execution_count": 14,
   "metadata": {},
   "outputs": [],
   "source": [
    "rd.close_session()"
   ]
  }
 ],
 "metadata": {
  "kernelspec": {
   "display_name": "thesis",
   "language": "python",
   "name": "python3"
  },
  "language_info": {
   "codemirror_mode": {
    "name": "ipython",
    "version": 3
   },
   "file_extension": ".py",
   "mimetype": "text/x-python",
   "name": "python",
   "nbconvert_exporter": "python",
   "pygments_lexer": "ipython3",
   "version": "3.11.5"
  }
 },
 "nbformat": 4,
 "nbformat_minor": 2
}
