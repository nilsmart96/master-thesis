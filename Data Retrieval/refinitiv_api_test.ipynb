{
 "cells": [
  {
   "cell_type": "code",
   "execution_count": 6,
   "metadata": {},
   "outputs": [],
   "source": [
    "# Importing necessary libraries\n",
    "import os\n",
    "import pandas as pd\n",
    "from IPython.display import HTML\n",
    "import refinitiv.data as rd\n",
    "\n",
    "from refinitiv.data.content import news"
   ]
  },
  {
   "cell_type": "code",
   "execution_count": 2,
   "metadata": {},
   "outputs": [],
   "source": [
    "# Configuration File to communicate with Refinitiv\n",
    "os.environ[\"RD_LIB_CONFIG_PATH\"] = \"../Configuration\""
   ]
  },
  {
   "cell_type": "code",
   "execution_count": 3,
   "metadata": {},
   "outputs": [
    {
     "data": {
      "text/plain": [
       "<refinitiv.data.session.Definition object at 0x111bf6590 {name='workspace'}>"
      ]
     },
     "execution_count": 3,
     "metadata": {},
     "output_type": "execute_result"
    }
   ],
   "source": [
    "# Connecting to the Refinitiv API\n",
    "rd.open_session()"
   ]
  },
  {
   "cell_type": "code",
   "execution_count": 7,
   "metadata": {},
   "outputs": [
    {
     "data": {
      "text/html": [
       "<div>\n",
       "<style scoped>\n",
       "    .dataframe tbody tr th:only-of-type {\n",
       "        vertical-align: middle;\n",
       "    }\n",
       "\n",
       "    .dataframe tbody tr th {\n",
       "        vertical-align: top;\n",
       "    }\n",
       "\n",
       "    .dataframe thead th {\n",
       "        text-align: right;\n",
       "    }\n",
       "</style>\n",
       "<table border=\"1\" class=\"dataframe\">\n",
       "  <thead>\n",
       "    <tr style=\"text-align: right;\">\n",
       "      <th></th>\n",
       "      <th>headline</th>\n",
       "      <th>storyId</th>\n",
       "      <th>sourceCode</th>\n",
       "    </tr>\n",
       "    <tr>\n",
       "      <th>versionCreated</th>\n",
       "      <th></th>\n",
       "      <th></th>\n",
       "      <th></th>\n",
       "    </tr>\n",
       "  </thead>\n",
       "  <tbody>\n",
       "    <tr>\n",
       "      <th>2023-11-16 14:54:56.567</th>\n",
       "      <td>How Hewlett Packard Enterprise's dividend comp...</td>\n",
       "      <td>urn:newsml:newsroom:20231116:nNRAqqcz8f:0</td>\n",
       "      <td>NS:GLOSTO</td>\n",
       "    </tr>\n",
       "    <tr>\n",
       "      <th>2023-11-16 14:54:56.540</th>\n",
       "      <td>How Garmin's dividend compares to Apple</td>\n",
       "      <td>urn:newsml:newsroom:20231116:nNRAqqcyqi:0</td>\n",
       "      <td>NS:GLOSTO</td>\n",
       "    </tr>\n",
       "    <tr>\n",
       "      <th>2023-11-16 14:54:22.984</th>\n",
       "      <td>How Root Has Fared Since Its Recent Analyst Ra...</td>\n",
       "      <td>urn:newsml:newsroom:20231116:nNRAqqcxjw:0</td>\n",
       "      <td>NS:GLOSTO</td>\n",
       "    </tr>\n",
       "    <tr>\n",
       "      <th>2023-11-16 14:53:03.805</th>\n",
       "      <td>How Apple's dividend compares to Its Peers</td>\n",
       "      <td>urn:newsml:newsroom:20231116:nNRAqqcw9c:0</td>\n",
       "      <td>NS:GLOSTO</td>\n",
       "    </tr>\n",
       "    <tr>\n",
       "      <th>2023-11-16 14:45:17.568</th>\n",
       "      <td>遠百竹北「日本弘前 o 函館文化物產嘉年華」 今香甜登場 --</td>\n",
       "      <td>urn:link:webnews:20231116:nNRAqqcs9e:0</td>\n",
       "      <td>NS:UDNCHI</td>\n",
       "    </tr>\n",
       "    <tr>\n",
       "      <th>2023-11-16 14:42:21.106</th>\n",
       "      <td>Apple Pencil (USB-C) Review: Reliable handy to...</td>\n",
       "      <td>urn:link:webnews:20231116:nNRAqqcq2j:0</td>\n",
       "      <td>NS:DECHER</td>\n",
       "    </tr>\n",
       "    <tr>\n",
       "      <th>2023-11-16 14:38:46.440</th>\n",
       "      <td>EU macht Druck: Apple iOS soll bald Sideloadin...</td>\n",
       "      <td>urn:link:webnews:20231116:nNRAqqcpr6:0</td>\n",
       "      <td>NS:WINGER</td>\n",
       "    </tr>\n",
       "    <tr>\n",
       "      <th>2023-11-16 14:38:16.000</th>\n",
       "      <td>FACTBOX-Cinq choses à savoir sur le procès con...</td>\n",
       "      <td>urn:newsml:reuters.com:20231116:nL8N3CH6CI:1</td>\n",
       "      <td>NS:RTRS</td>\n",
       "    </tr>\n",
       "    <tr>\n",
       "      <th>2023-11-16 14:38:15.000</th>\n",
       "      <td>FACTBOX-Cinque cose da sapere sul processo ant...</td>\n",
       "      <td>urn:newsml:reuters.com:20231116:nL8N3CH6CF:1</td>\n",
       "      <td>NS:RTRS</td>\n",
       "    </tr>\n",
       "    <tr>\n",
       "      <th>2023-11-16 14:38:11.000</th>\n",
       "      <td>STICHWORT-Fünf wichtige Informationen zum Goog...</td>\n",
       "      <td>urn:newsml:reuters.com:20231116:nL8N3CH6CC:1</td>\n",
       "      <td>NS:RTRS</td>\n",
       "    </tr>\n",
       "  </tbody>\n",
       "</table>\n",
       "</div>"
      ],
      "text/plain": [
       "                                                                  headline  \\\n",
       "versionCreated                                                               \n",
       "2023-11-16 14:54:56.567  How Hewlett Packard Enterprise's dividend comp...   \n",
       "2023-11-16 14:54:56.540            How Garmin's dividend compares to Apple   \n",
       "2023-11-16 14:54:22.984  How Root Has Fared Since Its Recent Analyst Ra...   \n",
       "2023-11-16 14:53:03.805         How Apple's dividend compares to Its Peers   \n",
       "2023-11-16 14:45:17.568                    遠百竹北「日本弘前 o 函館文化物產嘉年華」 今香甜登場 --   \n",
       "2023-11-16 14:42:21.106  Apple Pencil (USB-C) Review: Reliable handy to...   \n",
       "2023-11-16 14:38:46.440  EU macht Druck: Apple iOS soll bald Sideloadin...   \n",
       "2023-11-16 14:38:16.000  FACTBOX-Cinq choses à savoir sur le procès con...   \n",
       "2023-11-16 14:38:15.000  FACTBOX-Cinque cose da sapere sul processo ant...   \n",
       "2023-11-16 14:38:11.000  STICHWORT-Fünf wichtige Informationen zum Goog...   \n",
       "\n",
       "                                                              storyId  \\\n",
       "versionCreated                                                          \n",
       "2023-11-16 14:54:56.567     urn:newsml:newsroom:20231116:nNRAqqcz8f:0   \n",
       "2023-11-16 14:54:56.540     urn:newsml:newsroom:20231116:nNRAqqcyqi:0   \n",
       "2023-11-16 14:54:22.984     urn:newsml:newsroom:20231116:nNRAqqcxjw:0   \n",
       "2023-11-16 14:53:03.805     urn:newsml:newsroom:20231116:nNRAqqcw9c:0   \n",
       "2023-11-16 14:45:17.568        urn:link:webnews:20231116:nNRAqqcs9e:0   \n",
       "2023-11-16 14:42:21.106        urn:link:webnews:20231116:nNRAqqcq2j:0   \n",
       "2023-11-16 14:38:46.440        urn:link:webnews:20231116:nNRAqqcpr6:0   \n",
       "2023-11-16 14:38:16.000  urn:newsml:reuters.com:20231116:nL8N3CH6CI:1   \n",
       "2023-11-16 14:38:15.000  urn:newsml:reuters.com:20231116:nL8N3CH6CF:1   \n",
       "2023-11-16 14:38:11.000  urn:newsml:reuters.com:20231116:nL8N3CH6CC:1   \n",
       "\n",
       "                        sourceCode  \n",
       "versionCreated                      \n",
       "2023-11-16 14:54:56.567  NS:GLOSTO  \n",
       "2023-11-16 14:54:56.540  NS:GLOSTO  \n",
       "2023-11-16 14:54:22.984  NS:GLOSTO  \n",
       "2023-11-16 14:53:03.805  NS:GLOSTO  \n",
       "2023-11-16 14:45:17.568  NS:UDNCHI  \n",
       "2023-11-16 14:42:21.106  NS:DECHER  \n",
       "2023-11-16 14:38:46.440  NS:WINGER  \n",
       "2023-11-16 14:38:16.000    NS:RTRS  \n",
       "2023-11-16 14:38:15.000    NS:RTRS  \n",
       "2023-11-16 14:38:11.000    NS:RTRS  "
      ]
     },
     "execution_count": 7,
     "metadata": {},
     "output_type": "execute_result"
    }
   ],
   "source": [
    "response = news.headlines.Definition(\"Apple\").get_data()\n",
    "response.data.df"
   ]
  },
  {
   "cell_type": "code",
   "execution_count": 8,
   "metadata": {},
   "outputs": [
    {
     "name": "stdout",
     "output_type": "stream",
     "text": [
      "Protegrity Data Protection Platform Now Available on Google Cloud Marketplace \n",
      "\n"
     ]
    },
    {
     "data": {
      "text/html": [
       "<div lang=\"en\">\n",
       "\n",
       "<div class=\"xn-newslines\">\n",
       "\n",
       "<p class=\"xn-distributor\">PR Newswire</p>\n",
       "<p class=\"xn-dateline\">SALT LAKE CITY, Feb. 1, 2023</p></div>\n",
       "\n",
       "<div class=\"xn-content\">\n",
       "\n",
       "<p class=\"prntac\"><span>Google Cloud Platform Customers now have access to Protegrity's industry-leading data security and privacy platform</span></p>\n",
       "<p><span class=\"legendSpanClass\"><span class=\"xn-location\">SALT LAKE CITY</span></span>, <span class=\"legendSpanClass\"><span class=\"xn-chron\">Feb. 1, 2023</span></span> /PRNewswire/ -- <a href=\"https://c212.net/c/link/?t=0&amp;l=en&amp;o=3771176-1&amp;h=4150694012&amp;u=https%3A%2F%2Fwww.protegrity.com%2F&amp;a=Protegrity\" data-type=\"url\" class=\"tr-link\" translate=\"no\">Protegrity</a>, a global leader in data-centric security, today announced that its proprietary data protection platform is now available in the <a href=\"https://c212.net/c/link/?t=0&amp;l=en&amp;o=3771176-1&amp;h=3969887193&amp;u=https%3A%2F%2Fcloud.google.com%2Fmarketplace&amp;a=Google+Cloud+Marketplace\" data-type=\"url\" class=\"tr-link\" translate=\"no\">Google Cloud Marketplace</a>. This development allows Google Cloud Platform customers to leverage advanced data security and privacy functionality as they move, store and use critical data in the cloud.</p>\n",
       "\n",
       "    <div class=\"PRN_ImbeddedAssetReference\" id=\"DivAssetPlaceHolder1\">\n",
       "                <p>\n",
       "                        <a href=\"https://mma.prnewswire.com/media/1766123/Protegrity_Logo_orange_dark_vertical_Logo.html\">\n",
       "                    <div class=\"tr-image\"><div class=\"tr-image-components\"><img alt=\"https://www.protegrity.com/ (PRNewsfoto/Protegrity)\" src=\"https://mma.prnewswire.com/media/1766123/Protegrity_Logo_orange_dark_vertical_Logo.jpg\" title=\"https://www.protegrity.com/ (PRNewsfoto/Protegrity)\" data-internal-src=\"https://emea1-apps.platform.refinitiv.com/newscloudservice/images?apiKey=5ebc2e3a-46da-43d2-9c9f-8030fb911eb9&amp;type=base64Url&amp;id=aHR0cHM6Ly9tbWEucHJuZXdzd2lyZS5jb20vbWVkaWEvMTc2NjEyMy9Qcm90ZWdyaXR5X0xvZ29fb3JhbmdlX2RhcmtfdmVydGljYWxfTG9nby5qcGc=&amp;key=75567b51cdf0b5b276a55e14605b9b87a9a8505537f73a4ffe5c41b483d06f35f1999a76dd12323bd6b818c7a20c80bbb85b0bde4ff2f9b20b07affc52c54ef0\"/></div></div>\n",
       "                        </a>\n",
       "                </p>\n",
       "\n",
       "    </div>\n",
       "<p>\"The rapidly evolving threat landscape coupled with a complex and disparate regulatory environment has enterprise cloud security teams on edge,\" said <span class=\"xn-person\">Brad Rouse</span>, Chief Revenue Officer at Protegrity. \"This is an important step towards providing customers easy access to advanced data-protection capabilities that ensure compliance and security for sensitive data.\"</p>\n",
       "<p>Protegrity's Data Protection Platform secures data and protects its privacy in motion, at rest and in use across hybrid and multicloud environments. The platform's cutting-edge capabilities allow customers to choose the form and type of fine-grained data protection they need, including format preserving encryption, data masking, anonymization and vaultless tokenization.</p>\n",
       "<p><b>\"</b>As security threats become more sophisticated, organizations need solutions that enable their teams to safely collaborate and share data in protected, secure environments,\" said <span class=\"xn-person\">Dai Vu</span>, Managing Director, Marketplace &amp; ISV GMT Programs, Google Cloud. \"Bringing its Data Protection Platform to Google Cloud Marketplace demonstrates Protegrity's commitment to providing customers with the technologies needed to safeguard sensitive information as they innovate in the cloud.\"</p>\n",
       "<p>Google Cloud customers can transact with any part of the Protegrity platform using a Google Cloud Marketplace private offer. They can choose any Protegrity product that runs on the Google Cloud Platform towards fulfilling their committed spend with Google Cloud. This means customers can choose to run ESA, DSG, and Cloud Protect for Snowflake on Google Cloud, among others. Google Cloud customers have access to private offers, allowing them to customize their Protegrity solution on Google Cloud Marketplace.</p>\n",
       "<p>Protegrity Data Protection Platform's unique single pane of glass view allows businesses in the banking, financial services, insurance, travel and retail industries to streamline their security operations and close any gaps across disparate platforms. The platform plays a critical role in enabling secure cloud migration, multi-cloud deployments, data sharing and collaboration across all major cloud providers including Google Cloud Platform, Amazon Web Services, Microsoft Azure and Oracle Cloud.</p>\n",
       "<p><b>Follow Protegrity</b></p>\n",
       "<p>Twitter: <a href=\"https://c212.net/c/link/?t=0&amp;l=en&amp;o=3771176-1&amp;h=3060382632&amp;u=https%3A%2F%2Ftwitter.com%2FProtegrity&amp;a=%40Protegrity\" data-type=\"url\" class=\"tr-link\" translate=\"no\">@Protegrity</a><br/>LinkedIn: <a href=\"https://c212.net/c/link/?t=0&amp;l=en&amp;o=3771176-1&amp;h=2921011585&amp;u=http%3A%2F%2Flinkedin.com%2Fcompany%2Fprotegrity%2F&amp;a=linkedin.com%2Fcompany%2Fprotegrity%2F\">linkedin.com/company/protegrity/<br/></a></p>\n",
       "<p><b>About Protegrity</b></p>\n",
       "<p>Protegrity is a global leader in data security. With the Protegrity Data Platform, enterprises can secure their data wherever it is, control how it's protected, and have confidence that it is safe, even if a breach occurs. With the most comprehensive and flexible range of data protection methods, data is not just secure, but ready to be used. Whether encrypting, tokenizing, or applying privacy models, Protegrity protects data at the speed of business. Deep partner integrations with Snowflake, Amazon Redshift, Teradata, Oracle, Microsoft SQL Server, Cloudera, and Databricks ensure that data remains fully protected in hybrid-cloud, multi-cloud, and on-premises environments. Today, Protegrity protects the data of the world's largest banks, the top health insurance providers, and the world's leading multinational companies. With more than two decades of industry-leading innovation, Protegrity allows businesses to tap into the value of their data and accelerate digital transformation.</p>\n",
       "<p>For more information, visit <a href=\"https://c212.net/c/link/?t=0&amp;l=en&amp;o=3771176-1&amp;h=4150349597&amp;u=https%3A%2F%2Fwww.protegrity.com%2F&amp;a=Protegrity.com.\" data-type=\"url\" class=\"tr-link\" translate=\"no\">Protegrity.com.</a></p>\n",
       "\n",
       "<div class=\"PRN_ImbeddedAssetReference\" id=\"DivAssetPlaceHolder2\">\n",
       "</div>\n",
       "<p id=\"PURL\"></p><div class=\"tr-image\"><div class=\"tr-image-components\"><img alt=\"Cision\" src=\"https://c212.net/c/img/favicon.png?sn=NY01673&amp;sd=2023-02-01\" title=\"Cision\" style=\"max-height:12px\" data-internal-src=\"https://emea1-apps.platform.refinitiv.com/newscloudservice/images?apiKey=5ebc2e3a-46da-43d2-9c9f-8030fb911eb9&amp;type=base64Url&amp;id=aHR0cHM6Ly9jMjEyLm5ldC9jL2ltZy9mYXZpY29uLnBuZz9zbj1OWTAxNjczJnNkPTIwMjMtMDItMDE=&amp;key=26e10ce062d80a0f514203be632eb765be770959191805ff62f9fadc0daebae5963bae57e849ea0952416a9f72b12ee46b89f1c1391cc622439a6d0673b0b225\"/></div></div> View original content to download multimedia:<a href=\"https://www.prnewswire.com/news-releases/protegrity-data-protection-platform-now-available-on-google-cloud-marketplace-301735189.html\" data-type=\"url\" class=\"tr-link\" translate=\"no\">https://www.prnewswire.com/news-releases/protegrity-data-protection-platform-now-available-on-google-cloud-marketplace-301735189.html</a><p></p>\n",
       "<p>SOURCE  Protegrity</p>\n",
       "</div>\n",
       "</div>"
      ],
      "text/plain": [
       "<IPython.core.display.HTML object>"
      ]
     },
     "execution_count": 8,
     "metadata": {},
     "output_type": "execute_result"
    }
   ],
   "source": [
    "response = news.story.Definition(\"urn:newsml:reuters.com:20230201:nPn5pXtY4a:1\").get_data()\n",
    "print(response.data.story.title, '\\n')\n",
    "HTML(response.data.story.content.html)"
   ]
  },
  {
   "cell_type": "code",
   "execution_count": 9,
   "metadata": {},
   "outputs": [],
   "source": [
    "rd.close_session()"
   ]
  }
 ],
 "metadata": {
  "kernelspec": {
   "display_name": "thesis",
   "language": "python",
   "name": "python3"
  },
  "language_info": {
   "codemirror_mode": {
    "name": "ipython",
    "version": 3
   },
   "file_extension": ".py",
   "mimetype": "text/x-python",
   "name": "python",
   "nbconvert_exporter": "python",
   "pygments_lexer": "ipython3",
   "version": "3.11.5"
  }
 },
 "nbformat": 4,
 "nbformat_minor": 2
}
